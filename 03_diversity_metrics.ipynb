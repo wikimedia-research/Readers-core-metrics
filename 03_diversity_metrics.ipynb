{
 "cells": [
  {
   "cell_type": "markdown",
   "metadata": {},
   "source": [
    "# Monthly Readers Diversity Metrics #"
   ]
  },
  {
   "cell_type": "code",
   "execution_count": 2,
   "metadata": {},
   "outputs": [],
   "source": [
    "shhh <- function(expr) suppressPackageStartupMessages(suppressWarnings(suppressMessages(expr)))\n",
    "shhh({\n",
    "    library(tidyverse); library(ggplot2); library(lubridate); library(scales); library(reshape2);\n",
    "    library(wmf)\n",
    "})\n"
   ]
  },
  {
   "cell_type": "markdown",
   "metadata": {},
   "source": [
    "Pageviews data comes from wmf.pageview_hourly with IE corrections applied. Corrected data is stored in intermediate hive table mneisler.gs_pageviews_corrected with data stored back to September 2016. \n",
    "\n",
    "List of corrections and timespans that they are applied to:\n",
    "\n",
    "* IEPKIRAF: since May 20, 2018\n",
    "* IE7PKIRAF: January 1-May 19, 2018\n",
    "* IE7PKIRAF & iOS mainpage: Sept 2016-Dec 31, 2017"
   ]
  },
  {
   "cell_type": "markdown",
   "metadata": {},
   "source": [
    "## Interactions by Economic Region ##"
   ]
  },
  {
   "cell_type": "markdown",
   "metadata": {},
   "source": [
    "### Update gs_pageviews_corrected table ###"
   ]
  },
  {
   "cell_type": "code",
   "execution_count": null,
   "metadata": {},
   "outputs": [],
   "source": [
    "#Remember to update month to current metrics month and year\n",
    "metrics_month = '07'\n",
    "metrics_year = '2019'"
   ]
  },
  {
   "cell_type": "code",
   "execution_count": null,
   "metadata": {},
   "outputs": [],
   "source": [
    "#update pageviews_corrected table with new month data.\n",
    "\n",
    "gs_pageviews_query <- \"\n",
    "INSERT INTO TABLE mneisler.gs_pageviews_corrected\n",
    "PARTITION (year, month, day)\n",
    "\n",
    "SELECT date,\n",
    "countries.economic_region AS region,\n",
    "SUM(pageviews_country) AS pageviews,\n",
    "year, month, day\n",
    "FROM (\n",
    "  SELECT \n",
    "  CONCAT(year,'-',LPAD(month,2,'0'),'-',LPAD(day,2,'0')) AS date,\n",
    "  country_code,\n",
    "  SUM(view_count) AS pageviews_country,\n",
    "  year, month, day\n",
    "  FROM wmf.pageview_hourly\n",
    "  WHERE (year = '{metrics_year}'AND month = '{metrics_month}')\n",
    "  AND agent_type='user'\n",
    "  AND NOT (country_code IN ('PK', 'IR', 'AF') -- https://phabricator.wikimedia.org/T157404#3194046\n",
    "  AND user_agent_map['browser_family'] = 'IE') -- https://phabricator.wikimedia.org/T193578#4300284\n",
    "  GROUP BY year, month, day, country_code) AS bydatecountry\n",
    "JOIN canonical_data.countries AS countries\n",
    "ON bydatecountry.country_code = countries.iso_code\n",
    "GROUP BY date, year, month, day, countries.economic_region;\n"
   ]
  },
  {
   "cell_type": "code",
   "execution_count": null,
   "metadata": {},
   "outputs": [],
   "source": [
    "wmf::query_hive(gs_pageviews_query)"
   ]
  },
  {
   "cell_type": "markdown",
   "metadata": {},
   "source": [
    "### Global South Pageviews ###"
   ]
  },
  {
   "cell_type": "code",
   "execution_count": 37,
   "metadata": {},
   "outputs": [],
   "source": [
    "## Run pageview query and load data\n",
    "query <- \"\n",
    "SELECT\n",
    "date, region, pageviews\n",
    "FROM mneisler.gs_pageviews_corrected\n",
    "WHERE year >= 2017\n",
    "\""
   ]
  },
  {
   "cell_type": "code",
   "execution_count": 38,
   "metadata": {},
   "outputs": [],
   "source": [
    "pageviews_byregion <- wmf::query_hive(query)"
   ]
  },
  {
   "cell_type": "code",
   "execution_count": 39,
   "metadata": {},
   "outputs": [],
   "source": [
    "pageviews_byregion$date <- as.Date(pageviews_byregion$date, format = \"%Y-%m-%d\")"
   ]
  },
  {
   "cell_type": "code",
   "execution_count": 40,
   "metadata": {},
   "outputs": [
    {
     "data": {
      "text/html": [
       "<table>\n",
       "<caption>A tibble: 6 × 4</caption>\n",
       "<thead>\n",
       "\t<tr><th scope=col>date</th><th scope=col>monthly_views</th><th scope=col>yoy_percent</th><th scope=col>type</th></tr>\n",
       "\t<tr><th scope=col>&lt;date&gt;</th><th scope=col>&lt;dbl&gt;</th><th scope=col>&lt;dbl&gt;</th><th scope=col>&lt;chr&gt;</th></tr>\n",
       "</thead>\n",
       "<tbody>\n",
       "\t<tr><td>2019-02-01</td><td>3578825856</td><td> 6.1006531</td><td>pageviews</td></tr>\n",
       "\t<tr><td>2019-03-01</td><td>3950836410</td><td> 6.5692218</td><td>pageviews</td></tr>\n",
       "\t<tr><td>2019-04-01</td><td>3721100969</td><td> 3.1992450</td><td>pageviews</td></tr>\n",
       "\t<tr><td>2019-05-01</td><td>3837559183</td><td>-0.8576066</td><td>pageviews</td></tr>\n",
       "\t<tr><td>2019-06-01</td><td>3442174949</td><td>-3.7715663</td><td>pageviews</td></tr>\n",
       "\t<tr><td>2019-07-01</td><td>3552435830</td><td>-3.0678349</td><td>pageviews</td></tr>\n",
       "</tbody>\n",
       "</table>\n"
      ],
      "text/latex": [
       "A tibble: 6 × 4\n",
       "\\begin{tabular}{r|llll}\n",
       " date & monthly\\_views & yoy\\_percent & type\\\\\n",
       " <date> & <dbl> & <dbl> & <chr>\\\\\n",
       "\\hline\n",
       "\t 2019-02-01 & 3578825856 &  6.1006531 & pageviews\\\\\n",
       "\t 2019-03-01 & 3950836410 &  6.5692218 & pageviews\\\\\n",
       "\t 2019-04-01 & 3721100969 &  3.1992450 & pageviews\\\\\n",
       "\t 2019-05-01 & 3837559183 & -0.8576066 & pageviews\\\\\n",
       "\t 2019-06-01 & 3442174949 & -3.7715663 & pageviews\\\\\n",
       "\t 2019-07-01 & 3552435830 & -3.0678349 & pageviews\\\\\n",
       "\\end{tabular}\n"
      ],
      "text/markdown": [
       "\n",
       "A tibble: 6 × 4\n",
       "\n",
       "| date &lt;date&gt; | monthly_views &lt;dbl&gt; | yoy_percent &lt;dbl&gt; | type &lt;chr&gt; |\n",
       "|---|---|---|---|\n",
       "| 2019-02-01 | 3578825856 |  6.1006531 | pageviews |\n",
       "| 2019-03-01 | 3950836410 |  6.5692218 | pageviews |\n",
       "| 2019-04-01 | 3721100969 |  3.1992450 | pageviews |\n",
       "| 2019-05-01 | 3837559183 | -0.8576066 | pageviews |\n",
       "| 2019-06-01 | 3442174949 | -3.7715663 | pageviews |\n",
       "| 2019-07-01 | 3552435830 | -3.0678349 | pageviews |\n",
       "\n"
      ],
      "text/plain": [
       "  date       monthly_views yoy_percent type     \n",
       "1 2019-02-01 3578825856     6.1006531  pageviews\n",
       "2 2019-03-01 3950836410     6.5692218  pageviews\n",
       "3 2019-04-01 3721100969     3.1992450  pageviews\n",
       "4 2019-05-01 3837559183    -0.8576066  pageviews\n",
       "5 2019-06-01 3442174949    -3.7715663  pageviews\n",
       "6 2019-07-01 3552435830    -3.0678349  pageviews"
      ]
     },
     "metadata": {},
     "output_type": "display_data"
    }
   ],
   "source": [
    "gs_pageviews_monthly <- pageviews_byregion %>%\n",
    "  mutate(date = floor_date(date, \"month\")) %>%\n",
    "  filter(region == 'Global South') %>% #Look only at Global South\n",
    "  group_by(date) %>%\n",
    "  summarise(monthly_views = sum(as.numeric(pageviews))) %>%\n",
    "  arrange(date) %>%\n",
    "  mutate(yoy_percent = (monthly_views/lag(monthly_views,12) -1)*100)  %>%\n",
    "  mutate(type = \"pageviews\")\n",
    "\n",
    "tail(gs_pageviews_monthly)"
   ]
  },
  {
   "cell_type": "markdown",
   "metadata": {},
   "source": [
    "### Global South Seen Previews ###"
   ]
  },
  {
   "cell_type": "code",
   "execution_count": 9,
   "metadata": {},
   "outputs": [],
   "source": [
    "# Collect previews from wmf.virtualpageview_hourly. Page previews was completed in April 2018.\n",
    "\n",
    "previews_query <- \"\n",
    "SELECT date,\n",
    "countries.economic_region AS region,\n",
    "SUM(previews_seen_country) AS previews_seen\n",
    "FROM (\n",
    "  SELECT year, month, day, \n",
    "  CONCAT(year,'-',LPAD(month,2,'0'),'-',LPAD(day,2,'0')) AS date,\n",
    "  country_code,\n",
    "  SUM(view_count) AS previews_seen_country\n",
    "  FROM wmf.virtualpageview_hourly \n",
    "  WHERE (year = 2018 AND month >=4) OR (year = 2019)\n",
    "  GROUP BY year, month, day, country_code) AS bydatecountry\n",
    "JOIN canonical_data.countries AS countries\n",
    "ON bydatecountry.country_code = countries.iso_code\n",
    "GROUP BY date, countries.economic_region\n",
    "\""
   ]
  },
  {
   "cell_type": "code",
   "execution_count": 10,
   "metadata": {},
   "outputs": [],
   "source": [
    "previews_byregion <- wmf::query_hive(previews_query)"
   ]
  },
  {
   "cell_type": "code",
   "execution_count": 11,
   "metadata": {},
   "outputs": [],
   "source": [
    "previews_byregion$date <- as.Date(previews_byregion$date, format = \"%Y-%m-%d\")"
   ]
  },
  {
   "cell_type": "code",
   "execution_count": 12,
   "metadata": {},
   "outputs": [
    {
     "data": {
      "text/html": [
       "<table>\n",
       "<caption>A tibble: 6 × 4</caption>\n",
       "<thead>\n",
       "\t<tr><th scope=col>date</th><th scope=col>monthly_views</th><th scope=col>yoy_percent</th><th scope=col>type</th></tr>\n",
       "\t<tr><th scope=col>&lt;date&gt;</th><th scope=col>&lt;dbl&gt;</th><th scope=col>&lt;dbl&gt;</th><th scope=col>&lt;chr&gt;</th></tr>\n",
       "</thead>\n",
       "<tbody>\n",
       "\t<tr><td>2019-02-01</td><td>357437235</td><td>       NA</td><td>previews</td></tr>\n",
       "\t<tr><td>2019-03-01</td><td>390454166</td><td>       NA</td><td>previews</td></tr>\n",
       "\t<tr><td>2019-04-01</td><td>370881337</td><td> 21.32220</td><td>previews</td></tr>\n",
       "\t<tr><td>2019-05-01</td><td>389163895</td><td>-13.67486</td><td>previews</td></tr>\n",
       "\t<tr><td>2019-06-01</td><td>343196693</td><td>-16.46348</td><td>previews</td></tr>\n",
       "\t<tr><td>2019-07-01</td><td>361359372</td><td> -7.78231</td><td>previews</td></tr>\n",
       "</tbody>\n",
       "</table>\n"
      ],
      "text/latex": [
       "A tibble: 6 × 4\n",
       "\\begin{tabular}{r|llll}\n",
       " date & monthly\\_views & yoy\\_percent & type\\\\\n",
       " <date> & <dbl> & <dbl> & <chr>\\\\\n",
       "\\hline\n",
       "\t 2019-02-01 & 357437235 &        NA & previews\\\\\n",
       "\t 2019-03-01 & 390454166 &        NA & previews\\\\\n",
       "\t 2019-04-01 & 370881337 &  21.32220 & previews\\\\\n",
       "\t 2019-05-01 & 389163895 & -13.67486 & previews\\\\\n",
       "\t 2019-06-01 & 343196693 & -16.46348 & previews\\\\\n",
       "\t 2019-07-01 & 361359372 &  -7.78231 & previews\\\\\n",
       "\\end{tabular}\n"
      ],
      "text/markdown": [
       "\n",
       "A tibble: 6 × 4\n",
       "\n",
       "| date &lt;date&gt; | monthly_views &lt;dbl&gt; | yoy_percent &lt;dbl&gt; | type &lt;chr&gt; |\n",
       "|---|---|---|---|\n",
       "| 2019-02-01 | 357437235 |        NA | previews |\n",
       "| 2019-03-01 | 390454166 |        NA | previews |\n",
       "| 2019-04-01 | 370881337 |  21.32220 | previews |\n",
       "| 2019-05-01 | 389163895 | -13.67486 | previews |\n",
       "| 2019-06-01 | 343196693 | -16.46348 | previews |\n",
       "| 2019-07-01 | 361359372 |  -7.78231 | previews |\n",
       "\n"
      ],
      "text/plain": [
       "  date       monthly_views yoy_percent type    \n",
       "1 2019-02-01 357437235            NA   previews\n",
       "2 2019-03-01 390454166            NA   previews\n",
       "3 2019-04-01 370881337      21.32220   previews\n",
       "4 2019-05-01 389163895     -13.67486   previews\n",
       "5 2019-06-01 343196693     -16.46348   previews\n",
       "6 2019-07-01 361359372      -7.78231   previews"
      ]
     },
     "metadata": {},
     "output_type": "display_data"
    }
   ],
   "source": [
    "gs_previews_monthly <- previews_byregion %>%\n",
    "  mutate(date = floor_date(date, \"month\")) %>%\n",
    "  filter(region == 'Global South') %>%  #Look only at Global South\n",
    "  group_by(date) %>%\n",
    "  summarise(monthly_views = sum(as.numeric(previews_seen))) %>%\n",
    "  arrange(date) %>%\n",
    "mutate(yoy_percent = (monthly_views/lag(monthly_views,12) -1)*100)  %>%\n",
    "  mutate(type = \"previews\")\n",
    "\n",
    "tail(gs_previews_monthly)"
   ]
  },
  {
   "cell_type": "markdown",
   "metadata": {},
   "source": [
    "### Monthly Interactions in Global South (Pageviews + Seen Previews) ###"
   ]
  },
  {
   "cell_type": "code",
   "execution_count": 41,
   "metadata": {},
   "outputs": [],
   "source": [
    "#Create chart of interactions brokend down by pageviews and previews\n",
    "gs_interactions <- rbind(gs_pageviews_monthly, gs_previews_monthly) "
   ]
  },
  {
   "cell_type": "code",
   "execution_count": 42,
   "metadata": {},
   "outputs": [
    {
     "data": {
      "image/png": "[encoded data removed]",
      "text/plain": [
       "plot without title"
      ]
     },
     "metadata": {},
     "output_type": "display_data"
    }
   ],
   "source": [
    "#Stacked bar chart of monthly interactions\n",
    "\n",
    "p <- ggplot(gs_interactions, aes(x=date, y = monthly_views, fill = forcats::fct_rev(type))) +  \n",
    "  geom_col() +\n",
    "  scale_y_continuous(\"seen previews (shown for at least 1 sec)\\nand pageviews (in billions)\",  labels = polloi::compress) +\n",
    "  scale_x_date(\"Date\", labels = date_format(\"%Y-%m\"), date_breaks = \"3 months\") +\n",
    "  geom_vline(xintercept = as.numeric(as.Date(\"2018-04-01\")),\n",
    "             linetype = \"dashed\", color = \"blue\") +\n",
    "  geom_text(aes(x=as.Date('2018-04-01'), y=2E9, label=\"Page Previews Deployment Completed\"), size=4, vjust = -1.2, angle = 90, color = \"black\") +\n",
    "  labs(title = \"Global south pageviews and seen previews per calendar month\") +\n",
    "  ggthemes::theme_tufte(base_size = 14, base_family = \"Gill Sans\") +\n",
    "  theme(axis.text.x=element_text(angle = 45, hjust = 1),\n",
    "        panel.grid = element_line(\"gray70\"),\n",
    "        legend.position=\"bottom\",\n",
    "        legend.title=element_blank(),\n",
    "        legend.text=element_text(size=14))\n",
    "\n",
    "ggsave(filename=\"Global South pageviews and interactions_StackedBar.png\", plot = p, path = 'Figures', units = \"in\", dpi = 192, height = 6, width = 10, limitsize = FALSE)  \n",
    "p"
   ]
  },
  {
   "cell_type": "code",
   "execution_count": 43,
   "metadata": {},
   "outputs": [
    {
     "data": {
      "text/plain": [
       "\n",
       "\n",
       "|date       | interactions| yoy_percent|\n",
       "|:----------|------------:|-----------:|\n",
       "|2018-04-01 |   3911443844|          NA|\n",
       "|2018-05-01 |   4321566806|          NA|\n",
       "|2018-06-01 |   3987921459|          NA|\n",
       "|2018-07-01 |   4056722650|          NA|\n",
       "|2018-08-01 |   4135632404|          NA|\n",
       "|2018-09-01 |   4246181686|          NA|\n",
       "|2018-10-01 |   4454386356|          NA|\n",
       "|2018-11-01 |   4341707471|          NA|\n",
       "|2018-12-01 |   4025161324|          NA|\n",
       "|2019-01-01 |   4253901798|          NA|\n",
       "|2019-02-01 |   3936263091|          NA|\n",
       "|2019-03-01 |   4341290576|          NA|\n",
       "|2019-04-01 |   4091982306|    4.615648|\n",
       "|2019-05-01 |   4226723078|   -2.194661|\n",
       "|2019-06-01 |   3785371642|   -5.079082|\n",
       "|2019-07-01 |   3913795202|   -3.523224|"
      ]
     },
     "metadata": {},
     "output_type": "display_data"
    }
   ],
   "source": [
    "# Calculate monthly interactions (sum of pageviews and previews) and YoY changes in global south\n",
    "\n",
    "gs_interactions_total <- gs_interactions %>%\n",
    "  filter(date >= \"2018-04-01\") %>% #filter to first month previews rolled out.\n",
    "  group_by(date) %>%\n",
    "  summarise(interactions = sum(monthly_views)) %>%\n",
    "  arrange(date) %>%\n",
    "  mutate(yoy_percent = (interactions/lag(interactions,12) -1)*100) \n",
    "\n",
    "knitr::kable(gs_interactions_total)\n"
   ]
  },
  {
   "cell_type": "markdown",
   "metadata": {},
   "source": [
    "## Mobile-Heavy Wikis Interactions ##"
   ]
  },
  {
   "cell_type": "markdown",
   "metadata": {},
   "source": [
    "Pageviews data comes from wmf.pageview_hourly with IE corrections applied. Corrected data is stored in intermediate hive table mneisler.mh_pageviews_corrected with data stored back to September 2016. \n",
    "\n",
    "List of corrections and timespans that they are applied to:\n",
    "\n",
    "* IEPKIRAF: since May 20, 2018\n",
    "* IE7PKIRAF: January 1-May 19, 2018\n",
    "* IE7PKIRAF & iOS mainpage: Sept 2016-Dec 31, 2017"
   ]
  },
  {
   "cell_type": "markdown",
   "metadata": {},
   "source": [
    "### Update mh_pageviews_corrected table ###"
   ]
  },
  {
   "cell_type": "code",
   "execution_count": null,
   "metadata": {},
   "outputs": [],
   "source": [
    "#update pageviews_corrected table with new month data.\n",
    "\n",
    "mh_pageviews_query <- \"\n",
    "\n",
    "INSERT INTO TABLE mneisler.mh_pageviews_corrected\n",
    "PARTITION (year, month, day)\n",
    "\n",
    "SELECT CONCAT(year,'-',LPAD(month,2,'0'),'-',LPAD(day,2,'0')) AS date,\n",
    "SUM(view_count) AS all_views,\n",
    "SUM(IF (FIND_IN_SET(project,\n",
    "'hi.wikipedia,bn.wikipedia,id.wikipedia,ar.wikipedia,mr.wikipedia,fa.wikipedia,sw.wikipedia,tl.wikipedia,zh.wikiquote,th.wikipedia,arz.wikipedia,ml.wikipedia,ta.wikipedia,kn.wikipedia,pt.wiktionary,az.wikipedia,gu.wikipedia,ky.wikipedia,sq.wikipedia,ms.wikipedia'\n",
    ") > 0, view_count, 0)) AS mh_views,\n",
    "year, month, day\n",
    "FROM wmf.pageview_hourly\n",
    "WHERE (year = '{metrics_year}'AND month = '{metrics_month}')\n",
    "AND agent_type='user'\n",
    "AND NOT (country_code IN ('PK', 'IR', 'AF') -- https://phabricator.wikimedia.org/T157404#3194046\n",
    "AND user_agent_map['browser_family'] = 'IE') -- https://phabricator.wikimedia.org/T193578#4300284\n",
    "GROUP BY year, month, day\n",
    ";"
   ]
  },
  {
   "cell_type": "code",
   "execution_count": null,
   "metadata": {},
   "outputs": [],
   "source": [
    "wmf::query_hive(mh_pageviews_query)"
   ]
  },
  {
   "cell_type": "markdown",
   "metadata": {},
   "source": [
    "### Mobile Heavy Wiki Pageviews ###"
   ]
  },
  {
   "cell_type": "code",
   "execution_count": 44,
   "metadata": {},
   "outputs": [],
   "source": [
    "## Run pageview query and load data\n",
    "query <- \"\n",
    "SELECT\n",
    "date, all_views, mh_views\n",
    "FROM mneisler.mh_pageviews_corrected\n",
    "WHERE year >= 2017\n",
    "\""
   ]
  },
  {
   "cell_type": "code",
   "execution_count": 45,
   "metadata": {},
   "outputs": [],
   "source": [
    "pageviews_mh <- wmf::query_hive(query)"
   ]
  },
  {
   "cell_type": "code",
   "execution_count": 46,
   "metadata": {},
   "outputs": [],
   "source": [
    "pageviews_mh $date <- as.Date(pageviews_mh$date, format = \"%Y-%m-%d\")"
   ]
  },
  {
   "cell_type": "code",
   "execution_count": 47,
   "metadata": {},
   "outputs": [
    {
     "data": {
      "text/html": [
       "<table>\n",
       "<caption>A tibble: 6 × 4</caption>\n",
       "<thead>\n",
       "\t<tr><th scope=col>date</th><th scope=col>monthly_views</th><th scope=col>yoy_percent</th><th scope=col>type</th></tr>\n",
       "\t<tr><th scope=col>&lt;date&gt;</th><th scope=col>&lt;dbl&gt;</th><th scope=col>&lt;dbl&gt;</th><th scope=col>&lt;chr&gt;</th></tr>\n",
       "</thead>\n",
       "<tbody>\n",
       "\t<tr><td>2019-02-01</td><td>650360340</td><td>14.529972</td><td>pageviews</td></tr>\n",
       "\t<tr><td>2019-03-01</td><td>683682169</td><td>13.962936</td><td>pageviews</td></tr>\n",
       "\t<tr><td>2019-04-01</td><td>649681496</td><td>15.316568</td><td>pageviews</td></tr>\n",
       "\t<tr><td>2019-05-01</td><td>685429938</td><td>18.925811</td><td>pageviews</td></tr>\n",
       "\t<tr><td>2019-06-01</td><td>588140293</td><td> 7.478616</td><td>pageviews</td></tr>\n",
       "\t<tr><td>2019-07-01</td><td>655773508</td><td>11.306399</td><td>pageviews</td></tr>\n",
       "</tbody>\n",
       "</table>\n"
      ],
      "text/latex": [
       "A tibble: 6 × 4\n",
       "\\begin{tabular}{r|llll}\n",
       " date & monthly\\_views & yoy\\_percent & type\\\\\n",
       " <date> & <dbl> & <dbl> & <chr>\\\\\n",
       "\\hline\n",
       "\t 2019-02-01 & 650360340 & 14.529972 & pageviews\\\\\n",
       "\t 2019-03-01 & 683682169 & 13.962936 & pageviews\\\\\n",
       "\t 2019-04-01 & 649681496 & 15.316568 & pageviews\\\\\n",
       "\t 2019-05-01 & 685429938 & 18.925811 & pageviews\\\\\n",
       "\t 2019-06-01 & 588140293 &  7.478616 & pageviews\\\\\n",
       "\t 2019-07-01 & 655773508 & 11.306399 & pageviews\\\\\n",
       "\\end{tabular}\n"
      ],
      "text/markdown": [
       "\n",
       "A tibble: 6 × 4\n",
       "\n",
       "| date &lt;date&gt; | monthly_views &lt;dbl&gt; | yoy_percent &lt;dbl&gt; | type &lt;chr&gt; |\n",
       "|---|---|---|---|\n",
       "| 2019-02-01 | 650360340 | 14.529972 | pageviews |\n",
       "| 2019-03-01 | 683682169 | 13.962936 | pageviews |\n",
       "| 2019-04-01 | 649681496 | 15.316568 | pageviews |\n",
       "| 2019-05-01 | 685429938 | 18.925811 | pageviews |\n",
       "| 2019-06-01 | 588140293 |  7.478616 | pageviews |\n",
       "| 2019-07-01 | 655773508 | 11.306399 | pageviews |\n",
       "\n"
      ],
      "text/plain": [
       "  date       monthly_views yoy_percent type     \n",
       "1 2019-02-01 650360340     14.529972   pageviews\n",
       "2 2019-03-01 683682169     13.962936   pageviews\n",
       "3 2019-04-01 649681496     15.316568   pageviews\n",
       "4 2019-05-01 685429938     18.925811   pageviews\n",
       "5 2019-06-01 588140293      7.478616   pageviews\n",
       "6 2019-07-01 655773508     11.306399   pageviews"
      ]
     },
     "metadata": {},
     "output_type": "display_data"
    }
   ],
   "source": [
    "#Calculate monthly pageviews and YoY changes on mobile-heavy wikis\n",
    "mh_pageviews_monthly <- pageviews_mh %>%\n",
    "  mutate(date = floor_date(date, \"month\")) %>%\n",
    "  group_by(date) %>% \n",
    "  summarise(monthly_views = sum(as.numeric(mh_views))) %>%\n",
    "  arrange(date) %>%\n",
    "  mutate(yoy_percent = (monthly_views/lag(monthly_views,12) -1)*100)  %>%\n",
    "  mutate(type = \"pageviews\")\n",
    "\n",
    "tail(mh_pageviews_monthly)"
   ]
  },
  {
   "cell_type": "markdown",
   "metadata": {},
   "source": [
    "### Mobile Heavy Wiki Previews ###"
   ]
  },
  {
   "cell_type": "code",
   "execution_count": 29,
   "metadata": {},
   "outputs": [],
   "source": [
    "# Collect previews from wmf.virtualpageview_hourly. Page previews was completed in April 2018.\n",
    "\n",
    "mh_previews_query <- \"\n",
    "SELECT CONCAT(year,'-',LPAD(month,2,'0'),'-',LPAD(day,2,'0')) AS date,\n",
    "  SUM(view_count) AS all_views,\n",
    "SUM(IF (FIND_IN_SET(project,\n",
    "'hi.wikipedia,bn.wikipedia,id.wikipedia,ar.wikipedia,mr.wikipedia,fa.wikipedia,sw.wikipedia,tl.wikipedia,zh.wikiquote,th.wikipedia,arz.wikipedia,ml.wikipedia,ta.wikipedia,kn.wikipedia,pt.wiktionary,az.wikipedia,gu.wikipedia,ky.wikipedia,sq.wikipedia,ms.wikipedia'\n",
    ") > 0, view_count, 0)) AS mh_views\n",
    "  FROM wmf.virtualpageview_hourly \n",
    "  WHERE (year = 2018 AND month >=4) OR (year = 2019)\n",
    "  GROUP BY year, month, day\n",
    "\""
   ]
  },
  {
   "cell_type": "code",
   "execution_count": 30,
   "metadata": {},
   "outputs": [],
   "source": [
    "previews_mh <- wmf::query_hive(mh_previews_query)"
   ]
  },
  {
   "cell_type": "code",
   "execution_count": 31,
   "metadata": {},
   "outputs": [],
   "source": [
    "previews_mh$date <- as.Date(previews_mh$date, format = \"%Y-%m-%d\")"
   ]
  },
  {
   "cell_type": "code",
   "execution_count": 32,
   "metadata": {},
   "outputs": [
    {
     "data": {
      "text/html": [
       "<table>\n",
       "<caption>A tibble: 6 × 4</caption>\n",
       "<thead>\n",
       "\t<tr><th scope=col>date</th><th scope=col>monthly_views</th><th scope=col>yoy_percent</th><th scope=col>type</th></tr>\n",
       "\t<tr><th scope=col>&lt;date&gt;</th><th scope=col>&lt;dbl&gt;</th><th scope=col>&lt;dbl&gt;</th><th scope=col>&lt;chr&gt;</th></tr>\n",
       "</thead>\n",
       "<tbody>\n",
       "\t<tr><td>2019-02-01</td><td>33318281</td><td>        NA</td><td>previews</td></tr>\n",
       "\t<tr><td>2019-03-01</td><td>33671261</td><td>        NA</td><td>previews</td></tr>\n",
       "\t<tr><td>2019-04-01</td><td>33236300</td><td>-3.2241928</td><td>previews</td></tr>\n",
       "\t<tr><td>2019-05-01</td><td>33743376</td><td>-4.8786373</td><td>previews</td></tr>\n",
       "\t<tr><td>2019-06-01</td><td>29193310</td><td>-5.5651072</td><td>previews</td></tr>\n",
       "\t<tr><td>2019-07-01</td><td>31768798</td><td> 0.5031548</td><td>previews</td></tr>\n",
       "</tbody>\n",
       "</table>\n"
      ],
      "text/latex": [
       "A tibble: 6 × 4\n",
       "\\begin{tabular}{r|llll}\n",
       " date & monthly\\_views & yoy\\_percent & type\\\\\n",
       " <date> & <dbl> & <dbl> & <chr>\\\\\n",
       "\\hline\n",
       "\t 2019-02-01 & 33318281 &         NA & previews\\\\\n",
       "\t 2019-03-01 & 33671261 &         NA & previews\\\\\n",
       "\t 2019-04-01 & 33236300 & -3.2241928 & previews\\\\\n",
       "\t 2019-05-01 & 33743376 & -4.8786373 & previews\\\\\n",
       "\t 2019-06-01 & 29193310 & -5.5651072 & previews\\\\\n",
       "\t 2019-07-01 & 31768798 &  0.5031548 & previews\\\\\n",
       "\\end{tabular}\n"
      ],
      "text/markdown": [
       "\n",
       "A tibble: 6 × 4\n",
       "\n",
       "| date &lt;date&gt; | monthly_views &lt;dbl&gt; | yoy_percent &lt;dbl&gt; | type &lt;chr&gt; |\n",
       "|---|---|---|---|\n",
       "| 2019-02-01 | 33318281 |         NA | previews |\n",
       "| 2019-03-01 | 33671261 |         NA | previews |\n",
       "| 2019-04-01 | 33236300 | -3.2241928 | previews |\n",
       "| 2019-05-01 | 33743376 | -4.8786373 | previews |\n",
       "| 2019-06-01 | 29193310 | -5.5651072 | previews |\n",
       "| 2019-07-01 | 31768798 |  0.5031548 | previews |\n",
       "\n"
      ],
      "text/plain": [
       "  date       monthly_views yoy_percent type    \n",
       "1 2019-02-01 33318281              NA  previews\n",
       "2 2019-03-01 33671261              NA  previews\n",
       "3 2019-04-01 33236300      -3.2241928  previews\n",
       "4 2019-05-01 33743376      -4.8786373  previews\n",
       "5 2019-06-01 29193310      -5.5651072  previews\n",
       "6 2019-07-01 31768798       0.5031548  previews"
      ]
     },
     "metadata": {},
     "output_type": "display_data"
    }
   ],
   "source": [
    "#Calculate monthly previews and YoY changes on mobile-heavy wikis\n",
    "mh_previews_monthly <- previews_mh %>%\n",
    "    mutate(date = floor_date(date, \"month\")) %>%\n",
    "    group_by(date) %>% \n",
    "    summarise(monthly_views = sum(as.numeric(mh_views))) %>%\n",
    "    arrange(date) %>%\n",
    "   mutate(yoy_percent = (monthly_views/lag(monthly_views,12) -1)*100) %>%\n",
    "    mutate(type = \"previews\")\n",
    "\n",
    "tail(mh_previews_monthly)"
   ]
  },
  {
   "cell_type": "markdown",
   "metadata": {},
   "source": [
    "### Monthly Interactions on Mobile-Heavy Wikis (Pageviews + Seen Previews) ###"
   ]
  },
  {
   "cell_type": "code",
   "execution_count": 48,
   "metadata": {},
   "outputs": [],
   "source": [
    " mh_interactions <- rbind(mh_pageviews_monthly, mh_previews_monthly) "
   ]
  },
  {
   "cell_type": "code",
   "execution_count": 49,
   "metadata": {},
   "outputs": [
    {
     "data": {
      "image/png": "[encoded data removed]",
      "text/plain": [
       "plot without title"
      ]
     },
     "metadata": {},
     "output_type": "display_data"
    }
   ],
   "source": [
    "#Create chart of interactions broken down by pageviews and previews\n",
    " p <- ggplot(mh_interactions, aes(x=date, y = monthly_views, fill = forcats::fct_rev(type))) +  \n",
    "    geom_col() +\n",
    "    scale_y_continuous(\"seen previews (shown for at least 1 sec)\\nand pageviews (in millions)\",labels = polloi::compress) +\n",
    "    scale_x_date(\"Date\", labels = date_format(\"%Y-%m\"), date_breaks = \"3 months\") +\n",
    "    geom_vline(xintercept = as.numeric(as.Date(\"2018-04-01\")),\n",
    "               linetype = \"dashed\", color = \"blue\") +\n",
    "    geom_text(aes(x=as.Date('2018-04-01'), y=350E6, label=\"Page Previews Deployment Completed\"), size=4, vjust = -1.2, angle = 90, color = \"black\") +\n",
    "    labs(title = \"Mobile-heavy wiki pageviews and seen previews per calendar month\") +\n",
    "    ggthemes::theme_tufte(base_size = 14, base_family = \"Gill Sans\") +\n",
    "    theme(axis.text.x=element_text(angle = 45, hjust = 1),\n",
    "          panel.grid = element_line(\"gray70\"),\n",
    "          legend.position=\"bottom\",\n",
    "          legend.title=element_blank(),\n",
    "          legend.text=element_text(size=14))\n",
    "  \n",
    "  ggsave(filename=\"Mobile heavy wiki interactions_StackedBar.png\", plot = p, path = 'Figures', units = \"in\", dpi = 192, height = 6, width = 10, limitsize = FALSE)  \n",
    "p"
   ]
  },
  {
   "cell_type": "code",
   "execution_count": 50,
   "metadata": {},
   "outputs": [
    {
     "data": {
      "text/plain": [
       "\n",
       "\n",
       "|date       | interactions| yoy_percent|\n",
       "|:----------|------------:|-----------:|\n",
       "|2018-04-01 |    597733155|          NA|\n",
       "|2018-05-01 |    611824887|          NA|\n",
       "|2018-06-01 |    578129792|          NA|\n",
       "|2018-07-01 |    620770406|          NA|\n",
       "|2018-08-01 |    664662963|          NA|\n",
       "|2018-09-01 |    664910217|          NA|\n",
       "|2018-10-01 |    731810071|          NA|\n",
       "|2018-11-01 |    755204361|          NA|\n",
       "|2018-12-01 |    711396621|          NA|\n",
       "|2019-01-01 |    745954108|          NA|\n",
       "|2019-02-01 |    683678621|          NA|\n",
       "|2019-03-01 |    717353430|          NA|\n",
       "|2019-04-01 |    682917796|   14.251283|\n",
       "|2019-05-01 |    719173314|   17.545613|\n",
       "|2019-06-01 |    617333603|    6.781143|\n",
       "|2019-07-01 |    687542306|   10.756296|"
      ]
     },
     "metadata": {},
     "output_type": "display_data"
    }
   ],
   "source": [
    "# Calculate monthly interactions (sum of pageviews and previews) on desktop\n",
    " \n",
    "mh_interactions_total <- mh_interactions %>%\n",
    "    filter(date >= '2018-04-01') %>%#page previews rolled out in April 2018\n",
    "    group_by(date) %>%\n",
    "    summarise(interactions = sum(monthly_views)) %>%\n",
    "    arrange(date) %>%\n",
    "    mutate(yoy_percent = (interactions/lag(interactions,12) -1)*100) \n",
    "\n",
    "knitr::kable(mh_interactions_total)"
   ]
  },
  {
   "cell_type": "code",
   "execution_count": null,
   "metadata": {},
   "outputs": [],
   "source": []
  }
 ],
 "metadata": {
  "kernelspec": {
   "display_name": "R",
   "language": "R",
   "name": "ir"
  },
  "language_info": {
   "codemirror_mode": "r",
   "file_extension": ".r",
   "mimetype": "text/x-r-source",
   "name": "R",
   "pygments_lexer": "r",
   "version": "3.3.3"
  }
 },
 "nbformat": 4,
 "nbformat_minor": 2
}
